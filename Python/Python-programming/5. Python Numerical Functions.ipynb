{
 "cells": [
  {
   "cell_type": "markdown",
   "metadata": {},
   "source": [
    "# Python Numbers"
   ]
  },
  {
   "cell_type": "code",
   "execution_count": 1,
   "metadata": {},
   "outputs": [
    {
     "name": "stdout",
     "output_type": "stream",
     "text": [
      "abs(-45):  45\n",
      "abs(100.12):  100.12\n",
      "ceil(-45.17):  -45\n",
      "ceil(100.12):  101\n",
      "ceil(100.72):  101\n",
      "exp(-45.17):  2.4150062132629406e-20\n",
      "exp(100.12):  3.0308436140742566e+43\n",
      "exp(100.72):  5.522557130248187e+43\n",
      "floor(-45.17):  -46\n",
      "floor(100.12):  100\n",
      "floor(100.72):  100\n",
      "log(-45.17):  3.8104331496665127\n",
      "log(100.12):  4.6063694665635735\n",
      "log(100.72):  4.612344389736092\n",
      "max(80, 100, 120):  120\n",
      "max(-20, 40, 100):  100\n",
      "max(-10, -5, -10.20):  -5\n",
      "min(80, 100, 120):  80\n",
      "min(-20, 40, 100):  -20\n",
      "min(-10, -5, -10.20):  -10.2\n",
      "pow(100,2):  10000.0\n",
      "pow(5,4):  625.0\n",
      "pow(-10,2):  100.0\n",
      "round(70.23456):  70\n",
      "round(56.659,1):  56.7\n",
      "round(80.264,2):  80.26\n",
      "sqrt(100):  10.0\n",
      "sqrt(7):  2.6457513110645907\n"
     ]
    }
   ],
   "source": [
    "# Python Numerical Functions\n",
    "\n",
    "print('abs(-45): ', abs(-45))\n",
    "print('abs(100.12): ', abs(100.12))\n",
    "\n",
    "import math\n",
    "print('ceil(-45.17): ', math.ceil(-45.17))\n",
    "print('ceil(100.12): ', math.ceil(100.12))\n",
    "print('ceil(100.72): ', math.ceil(100.72))\n",
    "\n",
    "print('exp(-45.17): ', math.exp(-45.17))\n",
    "print('exp(100.12): ', math.exp(100.12))\n",
    "print('exp(100.72): ', math.exp(100.72))\n",
    "\n",
    "print('floor(-45.17): ', math.floor(-45.17))\n",
    "print('floor(100.12): ', math.floor(100.12))\n",
    "print('floor(100.72): ', math.floor(100.72))\n",
    "\n",
    "print('log(-45.17): ', math.log(45.17))\n",
    "print('log(100.12): ', math.log(100.12))\n",
    "print('log(100.72): ', math.log(100.72))\n",
    "\n",
    "print('max(80, 100, 120): ', max(80, 100, 120))\n",
    "print('max(-20, 40, 100): ', max(-20, 40, 100))\n",
    "print('max(-10, -5, -10.20): ', max(-10, -5, -10.20))\n",
    "\n",
    "print('min(80, 100, 120): ', min(80, 100, 120))\n",
    "print('min(-20, 40, 100): ', min(-20, 40, 100))\n",
    "print('min(-10, -5, -10.20): ', min(-10, -5, -10.20))\n",
    "\n",
    "print('pow(100,2): ', math.pow(100,2))\n",
    "print('pow(5,4): ', math.pow(5,4))\n",
    "print('pow(-10,2): ', math.pow(-10,2))\n",
    "\n",
    "print('round(70.23456): ', round(70.23456))\n",
    "print('round(56.659,1): ', round(56.659,1))\n",
    "print('round(80.264,2): ', round(80.264,2))\n",
    "\n",
    "print('sqrt(100): ', math.sqrt(100))\n",
    "print('sqrt(7): ', math.sqrt(7))"
   ]
  },
  {
   "cell_type": "code",
   "execution_count": 2,
   "metadata": {},
   "outputs": [
    {
     "name": "stdout",
     "output_type": "stream",
     "text": [
      "Random Number from list 1:  75\n",
      "Random Number from list 2:  50\n",
      "Random Word from string:  o\n",
      "Randomly select an odd number:  69\n",
      "Randomly select number between 0-99:  15\n",
      "First Random number:  0.558054985484181\n",
      "Second Random number:  0.7949370916993941\n",
      "Random NUmber with default seed:  0.12778647095210693\n",
      "Random number with changed seed:  0.5714025946899135\n",
      "Reshuffled the items in list:  [10, 20, 16, 5]\n",
      "[57, 43, 58, 21, 81, 82, 65, 16, 52, 33]\n"
     ]
    }
   ],
   "source": [
    "# Random Number Functions\n",
    "\n",
    "import random\n",
    "print('Random Number from list 1: ', random.choice(range(100)))\n",
    "print('Random Number from list 2: ', random.choice([1, 15, 50, 100]))\n",
    "print('Random Word from string: ', random.choice('Hello Python'))\n",
    "\n",
    "print('Randomly select an odd number: ', random.randrange(1, 100, 2))\n",
    "print('Randomly select number between 0-99: ', random.randrange(100))\n",
    "\n",
    "print('First Random number: ', random.random())\n",
    "print('Second Random number: ', random.random())\n",
    "\n",
    "random.seed()\n",
    "print('Random NUmber with default seed: ', random.random())\n",
    "random.seed(10)\n",
    "print('Random number with changed seed: ', random.random())\n",
    "\n",
    "list = [20, 16, 10, 5]\n",
    "random.shuffle(list)\n",
    "print('Reshuffled the items in list: ', list)\n",
    "\n",
    "# Creating sample numbers of sample size 10 between 0-100\n",
    "random.seed(10)\n",
    "sample_size = 0\n",
    "n_sample = []\n",
    "while sample_size < 10:\n",
    "    _temp1 = round(random.random() * 100)\n",
    "    n_sample.append(_temp1)\n",
    "    sample_size += 1\n",
    "print(n_sample)"
   ]
  },
  {
   "cell_type": "code",
   "execution_count": null,
   "metadata": {},
   "outputs": [],
   "source": []
  },
  {
   "cell_type": "code",
   "execution_count": null,
   "metadata": {},
   "outputs": [],
   "source": []
  }
 ],
 "metadata": {
  "kernelspec": {
   "display_name": "Python 3",
   "language": "python",
   "name": "python3"
  },
  "language_info": {
   "codemirror_mode": {
    "name": "ipython",
    "version": 3
   },
   "file_extension": ".py",
   "mimetype": "text/x-python",
   "name": "python",
   "nbconvert_exporter": "python",
   "pygments_lexer": "ipython3",
   "version": "3.8.3"
  }
 },
 "nbformat": 4,
 "nbformat_minor": 4
}
