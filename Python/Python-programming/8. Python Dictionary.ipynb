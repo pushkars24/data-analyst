{
 "cells": [
  {
   "cell_type": "markdown",
   "metadata": {},
   "source": [
    "# Python Dictionary"
   ]
  },
  {
   "cell_type": "code",
   "execution_count": 1,
   "metadata": {},
   "outputs": [
    {
     "name": "stdout",
     "output_type": "stream",
     "text": [
      "dict(name):  zara\n",
      "dict(age):  7\n",
      "----------------------------------------------------\n",
      "Old Dict:  {'name': 'zara', 'age': 7, 'class': 'First'}\n",
      "New Dict:  {'name': 'zara', 'age': 7, 'class': 8}\n",
      "Added new entry into Dict:  Kendriya\n",
      "----------------------------------------------------\n",
      "{'name': 'zara', 'age': 7, 'class': 8}\n",
      "Dict Elements:  {}\n",
      "<class 'dict'>\n",
      "----------------------------------------------------\n",
      "Dict2:  {'name': 'zara', 'age': 7, 'class': 'First'}\n",
      "----------------------------------------------------\n",
      "Dict3:  {'name': None, 'age': None, 'sex': None}\n",
      "Dict3:  {'name': 10, 'age': 10, 'sex': 10}\n",
      "----------------------------------------------------\n",
      "zara\n",
      "7\n",
      "NA\n",
      "----------------------------------------------------\n",
      "Dictionary Items:  dict_items([('name', 'zara'), ('age', 7), ('class', 'First')])\n",
      "Dictionary Keys:  dict_keys(['name', 'age', 'class'])\n",
      "----------------------------------------------------\n",
      "Kendriya\n",
      "{'name': 'zara', 'age': 7, 'class': 'First', 'school': 'Kendriya'}\n",
      "----------------------------------------------------\n",
      "{'name': 'zara', 'age': 7, 'class': 'First', 'school': 'Kendriya'}\n",
      "Dictionary Values:  ['zara', 7, 'First', 'Kendriya']\n",
      "----------------------------------------------------\n",
      "['name1', 'Kathy', 'name2', 'Rohan', 'name3', 'Sam']\n",
      "{'name1': 'Kathy', 'name2': 'Rohan', 'name3': 'Sam'}\n"
     ]
    }
   ],
   "source": [
    "# Accessing values from Dictionary\n",
    "dict = {'name': 'zara', 'age': 7, 'class': 'First'}\n",
    "print(\"dict(name): \", dict[\"name\"])\n",
    "print(\"dict(age): \", dict[\"age\"])\n",
    "print('----------------------------------------------------')\n",
    "# Updating Dictionary\n",
    "print('Old Dict: ', dict)\n",
    "dict['class'] = 8\n",
    "print('New Dict: ', dict)\n",
    "dict['school'] = \"Kendriya\"\n",
    "print('Added new entry into Dict: ', dict['school'])\n",
    "print('----------------------------------------------------')\n",
    "# Delete dictionary elements\n",
    "del dict['school']\n",
    "print(dict)\n",
    "dict.clear()\n",
    "print(\"Dict Elements: \", dict)\n",
    "del dict\n",
    "print(dict)\n",
    "print('----------------------------------------------------')\n",
    "# Dictionary Methods\n",
    "dict1 = {'name': 'zara', 'age': 7, 'class': 'First'}\n",
    "dict2 = dict1.copy()\n",
    "print('Dict2: ', dict2)\n",
    "print('----------------------------------------------------')\n",
    "seq = ('name', 'age', 'sex')\n",
    "dict3 = dict.fromkeys(seq)\n",
    "print('Dict3: ', dict3)\n",
    "dict3 = dict.fromkeys(seq,10)\n",
    "print('Dict3: ', dict3)\n",
    "print('----------------------------------------------------')\n",
    "dict4 = {'name': 'zara', 'age': 7, 'class': 'First'}\n",
    "print(dict4.get('name'))\n",
    "print(dict4.get('age'))\n",
    "print(dict4.get('school', 'NA'))\n",
    "print('----------------------------------------------------')\n",
    "print('Dictionary Items: ', dict4.items())\n",
    "print('Dictionary Keys: ', dict4.keys())\n",
    "print('----------------------------------------------------')\n",
    "dict5 = {'name': 'zara', 'age': 7, 'class': 'First'}\n",
    "print(dict5.setdefault('school', 'Kendriya'))\n",
    "print(dict5)\n",
    "print('----------------------------------------------------')\n",
    "dict6 = {'name': 'zara', 'age': 7, 'class': 'First'}\n",
    "dict7 = {'school': 'Kendriya'}\n",
    "dict6.update(dict7)\n",
    "print(dict6)\n",
    "print('Dictionary Values: ', list(dict6.values()))\n",
    "print('----------------------------------------------------')\n",
    "list = ['name1', 'Kathy', 'name2', 'Rohan', 'name3', 'Sam']\n",
    "print(list)\n",
    "dict_test = {}\n",
    "\n",
    "key_cnt = 0\n",
    "\n",
    "for keys in list:\n",
    "    key_cnt += 1\n",
    "    if key_cnt % 2 != 0:\n",
    "        dict_test.setdefault(keys, list[key_cnt])\n",
    "print(dict_test)"
   ]
  },
  {
   "cell_type": "code",
   "execution_count": null,
   "metadata": {},
   "outputs": [],
   "source": []
  },
  {
   "cell_type": "code",
   "execution_count": null,
   "metadata": {},
   "outputs": [],
   "source": []
  }
 ],
 "metadata": {
  "kernelspec": {
   "display_name": "Python 3",
   "language": "python",
   "name": "python3"
  },
  "language_info": {
   "codemirror_mode": {
    "name": "ipython",
    "version": 3
   },
   "file_extension": ".py",
   "mimetype": "text/x-python",
   "name": "python",
   "nbconvert_exporter": "python",
   "pygments_lexer": "ipython3",
   "version": "3.8.3"
  }
 },
 "nbformat": 4,
 "nbformat_minor": 4
}
