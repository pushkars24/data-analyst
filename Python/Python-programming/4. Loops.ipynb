{
 "cells": [
  {
   "cell_type": "markdown",
   "metadata": {},
   "source": [
    "# Python Loops"
   ]
  },
  {
   "cell_type": "code",
   "execution_count": 1,
   "metadata": {},
   "outputs": [
    {
     "name": "stdout",
     "output_type": "stream",
     "text": [
      "The Count is:  0\n",
      "The Count is:  1\n",
      "The Count is:  2\n",
      "The Count is:  3\n",
      "The Count is:  4\n",
      "The Count is:  5\n",
      "The Count is:  6\n",
      "The Count is:  7\n",
      "The Count is:  8\n",
      "The count is:  0\n",
      "The count is:  1\n",
      "The count is:  2\n",
      "The count is:  3\n",
      "The count is:  4\n",
      "5 is not less than 5\n"
     ]
    }
   ],
   "source": [
    "# WHILE Loop\n",
    "count = 0\n",
    "while count < 9:    \n",
    "    print('The Count is: ', count)    \n",
    "    count += 1\n",
    "\n",
    "# WHILE Loop with else statement    \n",
    "count = 0;\n",
    "while count < 5:\n",
    "    print('The count is: ', count)\n",
    "    count += 1\n",
    "else:\n",
    "    print(count, 'is not less than 5')"
   ]
  },
  {
   "cell_type": "code",
   "execution_count": 2,
   "metadata": {},
   "outputs": [
    {
     "name": "stdout",
     "output_type": "stream",
     "text": [
      "range(1, 5)\n",
      "[1, 2, 3, 4]\n"
     ]
    }
   ],
   "source": [
    "print(range(1,5))\n",
    "print(list(range(1,5)))"
   ]
  },
  {
   "cell_type": "code",
   "execution_count": 3,
   "metadata": {},
   "outputs": [
    {
     "name": "stdout",
     "output_type": "stream",
     "text": [
      "0\n",
      "1\n",
      "2\n",
      "3\n",
      "4\n",
      "Current Letter is:  P\n",
      "Current Letter is:  y\n",
      "Current Letter is:  t\n",
      "Current Letter is:  h\n",
      "Current Letter is:  o\n",
      "Current Letter is:  n\n",
      "Current Fruit is:  banana\n",
      "Current Fruit is:  apple\n",
      "Current Fruit is:  mango\n",
      "Current fruit is:  banana\n",
      "Current fruit is:  apple\n",
      "Current fruit is:  mango\n",
      "The list does not contain even numbers\n"
     ]
    }
   ],
   "source": [
    "# FOR Loop\n",
    "for var in range(5):\n",
    "    print(var)\n",
    "\n",
    "# Iterate on string    \n",
    "for letter in 'Python': \n",
    "    print('Current Letter is: ',letter)\n",
    "\n",
    "# Iterate on List Sequence    \n",
    "fruits = ['banana','apple','mango'] \n",
    "for fruit in fruits:\n",
    "    print('Current Fruit is: ',fruit)\n",
    "\n",
    "# Iterating by Sequence Index\n",
    "fruits = ['banana', 'apple', 'mango']\n",
    "for index in range(len(fruits)):\n",
    "    print('Current fruit is: ', fruits[index])\n",
    "\n",
    "numbers = [11,33,55,39,55,75,37,21,23,41,13]\n",
    "for num in numbers:\n",
    "    if num % 2 == 0:\n",
    "        print('The list contains even numbers')\n",
    "else:\n",
    "    print('The list does not contain even numbers')"
   ]
  },
  {
   "cell_type": "code",
   "execution_count": 4,
   "metadata": {},
   "outputs": [
    {
     "name": "stdout",
     "output_type": "stream",
     "text": [
      "1\n",
      "2\n",
      "2\n",
      "4\n",
      "3\n",
      "6\n",
      "4\n",
      "8\n"
     ]
    }
   ],
   "source": [
    "# Nested FOR Loops\n",
    "for i in range(1,5):\n",
    "    for j in range(1,3):\n",
    "        k = i * j\n",
    "        print(k)"
   ]
  },
  {
   "cell_type": "code",
   "execution_count": 5,
   "metadata": {},
   "outputs": [
    {
     "name": "stdout",
     "output_type": "stream",
     "text": [
      "Current Letter:  P\n",
      "Current Letter:  y\n",
      "Current Letter:  t\n",
      "Current Variable Value:  10\n",
      "Current Variable Value:  9\n",
      "Current Variable Value:  8\n",
      "Current Variable Value:  7\n",
      "Current Variable Value:  6\n",
      "Any Number: 55\n",
      "Number found in list\n"
     ]
    }
   ],
   "source": [
    "# BREAK statement in loop\n",
    "for letter in 'Python':\n",
    "    if letter == 'h':\n",
    "        break\n",
    "    print('Current Letter: ', letter)\n",
    "\n",
    "var = 10\n",
    "while var > 0:\n",
    "    print('Current Variable Value: ', var)\n",
    "    var -= 1\n",
    "    if var == 5:\n",
    "        break\n",
    "\n",
    "no = int(input('Any Number: '))\n",
    "numbers = [11,33,55,39,55,75,37,21,23,41,13]\n",
    "for num in numbers:\n",
    "    if num == no:\n",
    "        print ('Number found in list')\n",
    "        break\n",
    "else:\n",
    "    print('Number does not found in list')"
   ]
  },
  {
   "cell_type": "code",
   "execution_count": 6,
   "metadata": {},
   "outputs": [
    {
     "name": "stdout",
     "output_type": "stream",
     "text": [
      "Current letter is:  P\n",
      "Current letter is:  y\n",
      "Current letter is:  t\n",
      "Current letter is:  o\n",
      "Current letter is:  n\n",
      "Current value is:  9\n",
      "Current value is:  8\n",
      "Current value is:  7\n",
      "Current value is:  6\n",
      "Current value is:  4\n",
      "Current value is:  3\n",
      "Current value is:  2\n",
      "Current value is:  1\n",
      "Current value is:  0\n"
     ]
    }
   ],
   "source": [
    "# CONTINUE Statement in loop\n",
    "for letter in 'Python':\n",
    "    if letter == 'h':\n",
    "        continue\n",
    "    print('Current letter is: ', letter)\n",
    "\n",
    "var = 10\n",
    "while var > 0:\n",
    "    var -= 1\n",
    "    if var == 5:\n",
    "        continue\n",
    "    print('Current value is: ', var)"
   ]
  },
  {
   "cell_type": "code",
   "execution_count": 7,
   "metadata": {},
   "outputs": [
    {
     "name": "stdout",
     "output_type": "stream",
     "text": [
      "Current Letter:  P\n",
      "Current Letter:  y\n",
      "Current Letter:  t\n",
      "Add logic in future for H\n",
      "Current Letter:  h\n",
      "Current Letter:  o\n",
      "Current Letter:  n\n"
     ]
    }
   ],
   "source": [
    "# PASS Statement in loop\n",
    "for letter in 'Python':\n",
    "    if letter == 'h':\n",
    "        pass\n",
    "        print('Add logic in future for H')\n",
    "    print('Current Letter: ', letter)"
   ]
  },
  {
   "cell_type": "code",
   "execution_count": null,
   "metadata": {},
   "outputs": [],
   "source": []
  }
 ],
 "metadata": {
  "kernelspec": {
   "display_name": "Python 3",
   "language": "python",
   "name": "python3"
  },
  "language_info": {
   "codemirror_mode": {
    "name": "ipython",
    "version": 3
   },
   "file_extension": ".py",
   "mimetype": "text/x-python",
   "name": "python",
   "nbconvert_exporter": "python",
   "pygments_lexer": "ipython3",
   "version": "3.8.3"
  }
 },
 "nbformat": 4,
 "nbformat_minor": 4
}
