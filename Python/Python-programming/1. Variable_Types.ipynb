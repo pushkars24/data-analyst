{
  "nbformat": 4,
  "nbformat_minor": 0,
  "metadata": {
    "kernelspec": {
      "display_name": "Python 3",
      "language": "python",
      "name": "python3"
    },
    "language_info": {
      "codemirror_mode": {
        "name": "ipython",
        "version": 3
      },
      "file_extension": ".py",
      "mimetype": "text/x-python",
      "name": "python",
      "nbconvert_exporter": "python",
      "pygments_lexer": "ipython3",
      "version": "3.8.3"
    },
    "colab": {
      "name": "1. Variable Types.ipynb",
      "provenance": []
    }
  },
  "cells": [
    {
      "cell_type": "markdown",
      "metadata": {
        "id": "L0sj6uEPjYx3"
      },
      "source": [
        "# Variable Types\n",
        "Condition to declare variable\n",
        "\n",
        "<li>Can contain both letter and numbers</li>\n",
        "<li>Have to begin with letters</li>\n",
        "<li>Can use underscore</li>\n",
        "<li>Can use upper case letters</li>\n",
        "<li>Python is case sensitive</li>\n",
        "<li>Cannot use reserve words and functions</li>"
      ]
    },
    {
      "cell_type": "code",
      "metadata": {
        "colab": {
          "base_uri": "https://localhost:8080/"
        },
        "id": "9O37mMAOjYx5",
        "outputId": "af4d1038-6d9a-4216-af0a-0af58c23cc65"
      },
      "source": [
        "# Assigning Values to Variables\n",
        "counter = 100    # AN integer assignment\n",
        "miles = 100.0    # Floating point assignment\n",
        "name = 'Jhon'    # String assignment\n",
        "\n",
        "print('Integer = ', counter)\n",
        "print('Floating point = ', miles)\n",
        "print('String = ', name)"
      ],
      "execution_count": 1,
      "outputs": [
        {
          "output_type": "stream",
          "name": "stdout",
          "text": [
            "Integer =  100\n",
            "Floating point =  100.0\n",
            "String =  Jhon\n"
          ]
        }
      ]
    },
    {
      "cell_type": "code",
      "metadata": {
        "colab": {
          "base_uri": "https://localhost:8080/"
        },
        "id": "7WmwB7n6jYx6",
        "outputId": "066f44db-2c1c-425c-e9f7-a3d3a3a7db3d"
      },
      "source": [
        "# Multiple Assignment\n",
        "a = b = c = d = 1\n",
        "print(a, b, c, d)\n",
        "\n",
        "a, b, c = 1, 2, 'Jhon'\n",
        "print(a, b, c)"
      ],
      "execution_count": 2,
      "outputs": [
        {
          "output_type": "stream",
          "name": "stdout",
          "text": [
            "1 1 1 1\n",
            "1 2 Jhon\n"
          ]
        }
      ]
    },
    {
      "cell_type": "code",
      "metadata": {
        "colab": {
          "base_uri": "https://localhost:8080/"
        },
        "id": "l3IsW6dcjYx7",
        "outputId": "d563d811-1f4d-47a5-fbf4-7e3aa5226868"
      },
      "source": [
        "# Python Numbers\n",
        "var1 = 10\n",
        "var2 = 20\n",
        "print(var1, var2)\n",
        "\n",
        "del var1\n",
        "# print(var1)"
      ],
      "execution_count": 3,
      "outputs": [
        {
          "output_type": "stream",
          "name": "stdout",
          "text": [
            "10 20\n"
          ]
        }
      ]
    },
    {
      "cell_type": "code",
      "metadata": {
        "colab": {
          "base_uri": "https://localhost:8080/"
        },
        "id": "IyVFqKiUjYx7",
        "outputId": "b992479c-333f-4b86-afe2-ab091b36852f"
      },
      "source": [
        "# Python Strings\n",
        "str = 'Hello World!'\n",
        "print(str)           # Prints complete string\n",
        "print(str[0])        # Prints first character of string\n",
        "print(str[2:5])      # Prints characters starting from 3 to 5\n",
        "print(str[3:])       # Prints characters starting from 4 to end\n",
        "print(str * 2)       # Prints string for 2 times\n",
        "print(str + \"TEST\")  # Prints concatenated string"
      ],
      "execution_count": 4,
      "outputs": [
        {
          "output_type": "stream",
          "name": "stdout",
          "text": [
            "Hello World!\n",
            "H\n",
            "llo\n",
            "lo World!\n",
            "Hello World!Hello World!\n",
            "Hello World!TEST\n"
          ]
        }
      ]
    },
    {
      "cell_type": "code",
      "metadata": {
        "colab": {
          "base_uri": "https://localhost:8080/"
        },
        "id": "GbM9JlR0jYx8",
        "outputId": "0d9d8e9d-597c-4213-ff76-40c627d2f298"
      },
      "source": [
        "# Python Lists\n",
        "list = ['abcd', 786, 2.23, 'john', 70.2]\n",
        "tinylist = [123, 'john']\n",
        "\n",
        "print(list)             # Print complete list\n",
        "print(list[0])          # Print first element from list\n",
        "print(list[1:3])        # Print elements from 1st to 2nd\n",
        "print(list[2:])         # Print element from 2nd to end\n",
        "print(list + tinylist)  # Print concatenated lists\n",
        "print(tinylist * 2)     # Print tinylist 2 times"
      ],
      "execution_count": 5,
      "outputs": [
        {
          "output_type": "stream",
          "name": "stdout",
          "text": [
            "['abcd', 786, 2.23, 'john', 70.2]\n",
            "abcd\n",
            "[786, 2.23]\n",
            "[2.23, 'john', 70.2]\n",
            "['abcd', 786, 2.23, 'john', 70.2, 123, 'john']\n",
            "[123, 'john', 123, 'john']\n"
          ]
        }
      ]
    },
    {
      "cell_type": "code",
      "metadata": {
        "colab": {
          "base_uri": "https://localhost:8080/"
        },
        "id": "ACAX1xx1jYx8",
        "outputId": "5f2b5358-644b-4e87-d3d6-3befe66ba466"
      },
      "source": [
        "# Python Tuples\n",
        "tuple = ('abcd', 786, 2.23, 'john', 70.2)\n",
        "tinytuple = (123, 'john')\n",
        "\n",
        "print(tuple)              # Print complete tuple\n",
        "print(tuple[0])           # Print first element from tuple\n",
        "print(tuple[1:3])         # Print elements from 2nd to 3rd\n",
        "print(tuple[2:])          # Print elements from 3rd to end\n",
        "print(tuple + tinytuple)  # Print concatenated tuples\n",
        "print(tinytuple * 2)      # Print tinytuple 2 times\n",
        "\n",
        "list[2] = 2000   # Valid syntax as we can update list\n",
        "print(list)\n",
        "\n",
        "# tuple[2] = 2000  # Invalid syntax as we can't update tuple"
      ],
      "execution_count": 6,
      "outputs": [
        {
          "output_type": "stream",
          "name": "stdout",
          "text": [
            "('abcd', 786, 2.23, 'john', 70.2)\n",
            "abcd\n",
            "(786, 2.23)\n",
            "(2.23, 'john', 70.2)\n",
            "('abcd', 786, 2.23, 'john', 70.2, 123, 'john')\n",
            "(123, 'john', 123, 'john')\n",
            "['abcd', 786, 2000, 'john', 70.2]\n"
          ]
        }
      ]
    },
    {
      "cell_type": "code",
      "metadata": {
        "colab": {
          "base_uri": "https://localhost:8080/"
        },
        "id": "GwpfCxs_jYx9",
        "outputId": "6afc2593-5b1e-407f-94b1-05f47ce60dfa"
      },
      "source": [
        "# Python Dictionary\n",
        "dict = {}\n",
        "dict['one'] = \"This is one\"\n",
        "dict[2] = \"This is two\"\n",
        "tinydict = {'name': 'john', 'code': 6734, 'dept': 'sales'}\n",
        "\n",
        "print(dict['one'])        # Prints value for one key\n",
        "print(dict[2])            # Prints value for second key\n",
        "print(tinydict)           # Prints tinydict\n",
        "print(tinydict.keys())    # Prints tinydict keys\n",
        "print(tinydict.values())  # Prints tinydict values\n"
      ],
      "execution_count": 7,
      "outputs": [
        {
          "output_type": "stream",
          "name": "stdout",
          "text": [
            "This is one\n",
            "This is two\n",
            "{'name': 'john', 'code': 6734, 'dept': 'sales'}\n",
            "dict_keys(['name', 'code', 'dept'])\n",
            "dict_values(['john', 6734, 'sales'])\n"
          ]
        }
      ]
    },
    {
      "cell_type": "code",
      "metadata": {
        "id": "03_WTq9WjYx9"
      },
      "source": [
        ""
      ],
      "execution_count": 7,
      "outputs": []
    }
  ]
}