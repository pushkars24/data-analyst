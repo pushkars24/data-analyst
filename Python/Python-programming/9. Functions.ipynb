{
 "cells": [
  {
   "cell_type": "markdown",
   "metadata": {},
   "source": [
    "# Functions"
   ]
  },
  {
   "cell_type": "code",
   "execution_count": 1,
   "metadata": {},
   "outputs": [
    {
     "name": "stdout",
     "output_type": "stream",
     "text": [
      "This is first call\n",
      "This is second call\n",
      "Values inside the function before change:  [10, 20, 30]\n",
      "values inside the function after change:  [10, 20, 50]\n",
      "Values outside the function:  [10, 20, 50]\n",
      "Values inside the function before change:  [10, 20, 30]\n",
      "values inside the function after change:  [1, 2, 3]\n",
      "Values outside the function:  [10, 20, 30]\n",
      "Name:  Sam\n",
      "Age:  28\n",
      "Name:  Sam\n",
      "Age:  28\n",
      "Output is:  10\n",
      "Output is:  30\n",
      "40\n",
      "50\n",
      "22\n",
      "20\n",
      "Inside the function:  148\n",
      "Outside the function:  0\n"
     ]
    }
   ],
   "source": [
    "# Python Functions\n",
    "\n",
    "def printme(str):\n",
    "    \"This prints a passed string into this function\"\n",
    "    print(str)\n",
    "    return\n",
    "\n",
    "printme('This is first call')\n",
    "printme('This is second call')\n",
    "\n",
    " \n",
    "def changeme(mylist):\n",
    "    \"This changes passed list into this function\"\n",
    "    print('Values inside the function before change: ', mylist)\n",
    "    mylist[2] = 50\n",
    "    print('values inside the function after change: ', mylist)\n",
    "    return\n",
    "\n",
    "temp_list = [10, 20, 30]\n",
    "changeme(temp_list)\n",
    "print('Values outside the function: ', temp_list)\n",
    "\n",
    "def changeme(mylist):\n",
    "    \"This changes passed list into this function\"\n",
    "    print('Values inside the function before change: ', mylist)\n",
    "    mylist = [1, 2, 3]\n",
    "    print('values inside the function after change: ', mylist)\n",
    "    return\n",
    "\n",
    "temp_list = [10, 20, 30]\n",
    "changeme(temp_list)\n",
    "print('Values outside the function: ', temp_list)\n",
    "\n",
    "# Default Arguments\n",
    "def printinfo(name, age = 35):\n",
    "    print('Name: ', name)\n",
    "    print('Age: ', age)\n",
    "    return\n",
    "\n",
    "printinfo(age = 28, name = 'Sam')\n",
    "printinfo('Sam', age = 28)\n",
    "\n",
    "# Variable-length Arguments\n",
    "def printinfo(arg1, *vartuple):\n",
    "    print('Output is: ', arg1) \n",
    "    for items in vartuple:\n",
    "        print(items)\n",
    "    return\n",
    "\n",
    "printinfo(10)\n",
    "printinfo(30, 40, 50)\n",
    "\n",
    "# Anonymous Functions\n",
    "sum = lambda arg1, arg2: arg1 + arg2\n",
    "_temp1 = sum(5,17)\n",
    "print(_temp1)\n",
    "\n",
    "# Return Statement\n",
    "def sum(arg1, arg2):\n",
    "    total = arg1 + arg2\n",
    "    return total\n",
    "_temp2 = sum(4, 16)\n",
    "print(_temp2)\n",
    "\n",
    "total = 0 # Outside the function call\n",
    "\n",
    "def sum(arg1, arg2):\n",
    "    total = arg1 + arg2\n",
    "    print('Inside the function: ', total)\n",
    "    return total\n",
    "sum(85, 63)\n",
    "print('Outside the function: ', total)"
   ]
  },
  {
   "cell_type": "code",
   "execution_count": null,
   "metadata": {},
   "outputs": [],
   "source": []
  }
 ],
 "metadata": {
  "kernelspec": {
   "display_name": "Python 3",
   "language": "python",
   "name": "python3"
  },
  "language_info": {
   "codemirror_mode": {
    "name": "ipython",
    "version": 3
   },
   "file_extension": ".py",
   "mimetype": "text/x-python",
   "name": "python",
   "nbconvert_exporter": "python",
   "pygments_lexer": "ipython3",
   "version": "3.7.4"
  }
 },
 "nbformat": 4,
 "nbformat_minor": 4
}
