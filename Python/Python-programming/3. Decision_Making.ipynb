{
  "nbformat": 4,
  "nbformat_minor": 0,
  "metadata": {
    "kernelspec": {
      "display_name": "Python 3",
      "language": "python",
      "name": "python3"
    },
    "language_info": {
      "codemirror_mode": {
        "name": "ipython",
        "version": 3
      },
      "file_extension": ".py",
      "mimetype": "text/x-python",
      "name": "python",
      "nbconvert_exporter": "python",
      "pygments_lexer": "ipython3",
      "version": "3.7.6"
    },
    "colab": {
      "name": "3. Decision Making.ipynb",
      "provenance": []
    }
  },
  "cells": [
    {
      "cell_type": "markdown",
      "metadata": {
        "id": "foeoWvZIleyv"
      },
      "source": [
        "# Decision Making or Conditional Statement"
      ]
    },
    {
      "cell_type": "code",
      "metadata": {
        "colab": {
          "base_uri": "https://localhost:8080/"
        },
        "id": "ksO0fdJ1leyw",
        "outputId": "07a1a695-9a41-4c5f-df02-9e32a685a37a"
      },
      "source": [
        "# IF Statement (Non-Zero value)\n",
        "var1 = 100\n",
        "if var1:\n",
        "    print('1 - Got true expression value')\n",
        "    print(var1)\n",
        "\n",
        "# IF Statement (Zero value)\n",
        "var2 = 0\n",
        "if var2:\n",
        "    print('2 - Got true expression value')\n",
        "    print(var2)"
      ],
      "execution_count": 1,
      "outputs": [
        {
          "output_type": "stream",
          "name": "stdout",
          "text": [
            "1 - Got true expression value\n",
            "100\n"
          ]
        }
      ]
    },
    {
      "cell_type": "code",
      "metadata": {
        "colab": {
          "base_uri": "https://localhost:8080/"
        },
        "id": "ZWKc-26Gleyy",
        "outputId": "42fa8a60-1559-4ec7-82b8-c0a504cf227f"
      },
      "source": [
        "# IF/ELSE Statements\n",
        "amount = int(input('Enter Amount: '))\n",
        "if amount < 1000:\n",
        "    discount = amount*0.5\n",
        "    print('Discount',discount)\n",
        "else:\n",
        "    discount = amount*0.10\n",
        "    print('Discount',discount)\n",
        "\n",
        "print('Net Payable', amount-discount)"
      ],
      "execution_count": 2,
      "outputs": [
        {
          "output_type": "stream",
          "name": "stdout",
          "text": [
            "Enter Amount: 500\n",
            "Discount 250.0\n",
            "Net Payable 250.0\n"
          ]
        }
      ]
    },
    {
      "cell_type": "code",
      "metadata": {
        "colab": {
          "base_uri": "https://localhost:8080/"
        },
        "id": "P33amsi_leyy",
        "outputId": "65ec3f16-1157-4247-ed87-bf4009b8ce72"
      },
      "source": [
        "# ELIF Statement\n",
        "amount = int(input('Enter Amount: '))\n",
        "if amount < 1000:\n",
        "    discount = amount*0.5\n",
        "    print('Discount', discount)\n",
        "elif amount < 5000:\n",
        "    discount = amount*0.10\n",
        "    print('Discount',discount)\n",
        "else:\n",
        "    discount = amount*0.15\n",
        "    print('Discount',discount)\n",
        "\n",
        "print('Net Payable', amount-discount)"
      ],
      "execution_count": 3,
      "outputs": [
        {
          "output_type": "stream",
          "name": "stdout",
          "text": [
            "Enter Amount: 900\n",
            "Discount 450.0\n",
            "Net Payable 450.0\n"
          ]
        }
      ]
    },
    {
      "cell_type": "code",
      "metadata": {
        "colab": {
          "base_uri": "https://localhost:8080/"
        },
        "id": "alMRo1rnleyz",
        "outputId": "294e8e75-9d88-4d61-c78d-a182b215d0d0"
      },
      "source": [
        "# Nested IF/ELSE Statements\n",
        "num = int(input('Enter Number: '))\n",
        "if num % 2 == 0:\n",
        "    if num % 3 == 0:\n",
        "        print('Divisible by 2 and 3')\n",
        "    else:\n",
        "        print('Divisible by 2 not by 3')\n",
        "else:\n",
        "    if num % 3 == 0:\n",
        "        print('Divisible by 3 not by 2')\n",
        "    else:\n",
        "        print('Not divisible by 2 and not divisible by 3')"
      ],
      "execution_count": 4,
      "outputs": [
        {
          "output_type": "stream",
          "name": "stdout",
          "text": [
            "Enter Number: 3\n",
            "Divisible by 3 not by 2\n"
          ]
        }
      ]
    }
  ]
}