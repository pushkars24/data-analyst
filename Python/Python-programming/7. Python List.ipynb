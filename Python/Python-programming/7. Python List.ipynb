{
 "cells": [
  {
   "cell_type": "markdown",
   "metadata": {},
   "source": [
    "# Python List"
   ]
  },
  {
   "cell_type": "code",
   "execution_count": 1,
   "metadata": {},
   "outputs": [
    {
     "name": "stdout",
     "output_type": "stream",
     "text": [
      "list1[0]:  physics\n",
      "list2[1]:  2\n",
      "list2[1:5]:  [2, 3, 4, 5]\n",
      "----------------------------------------------------\n",
      "['physics', 'chemistry', 2001, 2000]\n",
      "----------------------------------------------------\n",
      "['physics', 'chemistry', 2000]\n",
      "----------------------------------------------------\n",
      "3\n",
      "5\n",
      "1\n",
      "----------------------------------------------------\n",
      "[123, 'C++', 'Java', 'Python']\n",
      "['H', 'e', 'l', 'l', 'o', ' ', 'W', 'o', 'r', 'l', 'd']\n",
      "----------------------------------------------------\n",
      "['C++', 'Java', 'Python', 'C#']\n",
      "1\n",
      "----------------------------------------------------\n",
      "['physics', 'chemistry', 'maths', 0, 1, 2, 3, 4]\n",
      "----------------------------------------------------\n",
      "2\n",
      "----------------------------------------------------\n",
      "['physics', 'Economics', 'chemistry', 'maths', 0, 1, 2, 3, 4]\n",
      "----------------------------------------------------\n",
      "['physics', 'Economics', 'chemistry', 'maths', 0, 1, 2, 3]\n",
      "----------------------------------------------------\n",
      "['physics', 'chemistry', 'maths', 0, 1, 2, 3]\n",
      "----------------------------------------------------\n",
      "['physics', 'chemistry', 0, 1, 2, 3]\n",
      "----------------------------------------------------\n",
      "[3, 2, 1, 0, 'chemistry', 'physics']\n",
      "----------------------------------------------------\n"
     ]
    },
    {
     "ename": "TypeError",
     "evalue": "'<' not supported between instances of 'str' and 'int'",
     "output_type": "error",
     "traceback": [
      "\u001b[1;31m---------------------------------------------------------------------------\u001b[0m",
      "\u001b[1;31mTypeError\u001b[0m                                 Traceback (most recent call last)",
      "\u001b[1;32m<ipython-input-1-11be9618abac>\u001b[0m in \u001b[0;36m<module>\u001b[1;34m\u001b[0m\n\u001b[0;32m     54\u001b[0m \u001b[0mprint\u001b[0m\u001b[1;33m(\u001b[0m\u001b[0mlist1\u001b[0m\u001b[1;33m)\u001b[0m\u001b[1;33m\u001b[0m\u001b[1;33m\u001b[0m\u001b[0m\n\u001b[0;32m     55\u001b[0m \u001b[0mprint\u001b[0m\u001b[1;33m(\u001b[0m\u001b[1;34m'----------------------------------------------------'\u001b[0m\u001b[1;33m)\u001b[0m\u001b[1;33m\u001b[0m\u001b[1;33m\u001b[0m\u001b[0m\n\u001b[1;32m---> 56\u001b[1;33m \u001b[0mlist1\u001b[0m\u001b[1;33m.\u001b[0m\u001b[0msort\u001b[0m\u001b[1;33m(\u001b[0m\u001b[1;33m)\u001b[0m\u001b[1;33m\u001b[0m\u001b[1;33m\u001b[0m\u001b[0m\n\u001b[0m\u001b[0;32m     57\u001b[0m \u001b[0mprint\u001b[0m\u001b[1;33m(\u001b[0m\u001b[0mlist1\u001b[0m\u001b[1;33m)\u001b[0m\u001b[1;33m\u001b[0m\u001b[1;33m\u001b[0m\u001b[0m\n",
      "\u001b[1;31mTypeError\u001b[0m: '<' not supported between instances of 'str' and 'int'"
     ]
    }
   ],
   "source": [
    "# Accessing values in Lists\n",
    "list1 = ['physics', 'chemistry', 1997, 2000]\n",
    "list2 = [1, 2, 3, 4, 5]\n",
    "list3 = ['a', 'b', 'c', 'd']\n",
    "print('list1[0]: ', list1[0])\n",
    "print('list2[1]: ', list2[1])\n",
    "print('list2[1:5]: ', list2[1:5])\n",
    "print('----------------------------------------------------')\n",
    "# Updating Lists\n",
    "list1[2] = 2001\n",
    "print(list1)\n",
    "print('----------------------------------------------------')\n",
    "# Delete List elements\n",
    "del list1[2]\n",
    "print(list1)\n",
    "print('----------------------------------------------------')\n",
    "# Built in functions for Lists\n",
    "print(len(list1))\n",
    "print(max(list2))\n",
    "print(min(list2))\n",
    "print('----------------------------------------------------')\n",
    "atuple = (123, 'C++', 'Java', 'Python')\n",
    "list1 = list(atuple)\n",
    "print(list1)\n",
    "str = \"Hello World\"\n",
    "print(list(str))\n",
    "print('----------------------------------------------------')\n",
    "# Methods for lists\n",
    "list1 = ['C++', 'Java', 'Python']\n",
    "list1.append('C#')\n",
    "print(list1)\n",
    "print(list1.count('C++'))\n",
    "print('----------------------------------------------------')\n",
    "list1 = ['physics', 'chemistry', 'maths']\n",
    "list2 = list(range(5))\n",
    "list1.extend(list2)\n",
    "print(list1)\n",
    "print('----------------------------------------------------')\n",
    "print(list1.index('maths'))\n",
    "print('----------------------------------------------------')\n",
    "list1.insert(1, 'Economics')\n",
    "print(list1)\n",
    "print('----------------------------------------------------')\n",
    "list1.pop()\n",
    "print(list1)\n",
    "print('----------------------------------------------------')\n",
    "list1.pop(1)\n",
    "print(list1)\n",
    "print('----------------------------------------------------')\n",
    "list1.remove('maths')\n",
    "print(list1)\n",
    "print('----------------------------------------------------')\n",
    "list1.reverse()\n",
    "print(list1)\n",
    "print('----------------------------------------------------')\n",
    "list1.sort()\n",
    "print(list1)"
   ]
  },
  {
   "cell_type": "code",
   "execution_count": null,
   "metadata": {},
   "outputs": [],
   "source": []
  }
 ],
 "metadata": {
  "kernelspec": {
   "display_name": "Python 3",
   "language": "python",
   "name": "python3"
  },
  "language_info": {
   "codemirror_mode": {
    "name": "ipython",
    "version": 3
   },
   "file_extension": ".py",
   "mimetype": "text/x-python",
   "name": "python",
   "nbconvert_exporter": "python",
   "pygments_lexer": "ipython3",
   "version": "3.8.3"
  }
 },
 "nbformat": 4,
 "nbformat_minor": 4
}
